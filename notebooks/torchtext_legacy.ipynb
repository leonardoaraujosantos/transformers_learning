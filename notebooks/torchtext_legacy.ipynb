{
 "cells": [
  {
   "cell_type": "markdown",
   "metadata": {},
   "source": [
    "# TorchText (Old and New way)"
   ]
  },
  {
   "cell_type": "code",
   "execution_count": 20,
   "metadata": {},
   "outputs": [
    {
     "name": "stdout",
     "output_type": "stream",
     "text": [
      "\n",
      "[torchtext.legacy.data.batch.Batch of size 64 from MULTI30K]\n",
      "\t[.src]:[torch.LongTensor of size 20x64]\n",
      "\t[.trg]:[torch.LongTensor of size 27x64]\n",
      "Index of the word (the) is: 5\n",
      "Word of the index (1612) is: binoculars\n",
      "Word of the index (0) is: <unk>\n"
     ]
    }
   ],
   "source": [
    "import spacy, torch, json\n",
    "from torchtext.legacy.datasets import Multi30k\n",
    "from torchtext.legacy.data import Field, BucketIterator\n",
    "device = torch.device(\"cuda\" if torch.cuda.is_available() else \"cpu\")\n",
    "\n",
    "spacy_eng = spacy.load(\"en_core_web_sm\")\n",
    "spacy_ger = spacy.load(\"de_core_news_sm\")\n",
    "\n",
    "\n",
    "def tokenize_eng(text):\n",
    "    return [tok.text for tok in spacy_eng.tokenizer(text)]\n",
    "\n",
    "\n",
    "def tokenize_ger(text):\n",
    "    return [tok.text for tok in spacy_ger.tokenizer(text)]\n",
    "\n",
    "\n",
    "english = Field(sequential=True, use_vocab=True, tokenize=tokenize_eng, lower=True)\n",
    "german = Field(sequential=True, use_vocab=True, tokenize=tokenize_ger, lower=True)\n",
    "\n",
    "train_data, validation_data, test_data = Multi30k.splits(\n",
    "    exts=(\".de\", \".en\"), fields=(german, english)\n",
    ")\n",
    "#with open('../datasets/train.json', 'rb') as f:\n",
    "#    train_data = json.load(f)\n",
    "    \n",
    "#with open('../datasets/validation.json', 'rb') as f:\n",
    "#    validation_data = json.load(f)\n",
    "\n",
    "english.build_vocab(train_data, max_size=10000, min_freq=2)\n",
    "german.build_vocab(train_data, max_size=10000, min_freq=2)\n",
    "\n",
    "train_iterator, validation_iterator = BucketIterator.splits(\n",
    "    (train_data, validation_data), batch_size=64, device=device\n",
    ")\n",
    "\n",
    "for batch in train_iterator:\n",
    "    print(batch)\n",
    "    break\n",
    "\n",
    "# string to integer (stoi)\n",
    "print(f'Index of the word (the) is: {english.vocab.stoi[\"the\"]}')\n",
    "\n",
    "# print integer to string (itos)\n",
    "print(f\"Word of the index (1612) is: {english.vocab.itos[1612]}\")\n",
    "print(f\"Word of the index (0) is: {english.vocab.itos[0]}\")"
   ]
  },
  {
   "cell_type": "code",
   "execution_count": 23,
   "metadata": {},
   "outputs": [],
   "source": [
    "from torchtext.data.utils import get_tokenizer\n",
    "from torchtext.vocab import build_vocab_from_iterator\n",
    "from torchtext.datasets import Multi30k\n",
    "\n",
    "tokenize_ger = get_tokenizer('spacy', language='de_core_news_sm')\n",
    "tokenize_eng = get_tokenizer('spacy', language='en_core_web_sm')\n",
    "special_symbols = ['<unk>', '<pad>', '<bos>', '<eos>']"
   ]
  },
  {
   "cell_type": "code",
   "execution_count": null,
   "metadata": {},
   "outputs": [],
   "source": []
  }
 ],
 "metadata": {
  "kernelspec": {
   "display_name": "Python 3",
   "language": "python",
   "name": "python3"
  },
  "language_info": {
   "codemirror_mode": {
    "name": "ipython",
    "version": 3
   },
   "file_extension": ".py",
   "mimetype": "text/x-python",
   "name": "python",
   "nbconvert_exporter": "python",
   "pygments_lexer": "ipython3",
   "version": "3.8.5"
  }
 },
 "nbformat": 4,
 "nbformat_minor": 4
}
