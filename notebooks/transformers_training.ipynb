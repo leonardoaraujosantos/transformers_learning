{
 "cells": [
  {
   "cell_type": "markdown",
   "metadata": {},
   "source": [
    "# Transformers Training Example\n",
    "\n",
    "#### Loading Data\n",
    "We will use [Tensorflow datasets](https://www.tensorflow.org/datasets) to load the Portuguese-English dataset from Ted-Talks, first we need to install the library.\n",
    "```bash\n",
    "pip install tensorflow_datasets --use-feature=2020-resolver\n",
    "```\n",
    "We also included on the dataset folder a pickle file of this whole data that could be extracted like this:\n",
    "```python\n",
    "import tensorflow_datasets as tfds\n",
    "import pickle\n",
    "import json\n",
    "examples, metadata = tfds.load('ted_hrlr_translate/pt_to_en', with_info=True,\n",
    "                               as_supervised=True)\n",
    "train_examples, val_examples = examples['train'], examples['validation']\n",
    "\n",
    "dataset_ted_portuguese_english_train = []\n",
    "dataset_ted_portuguese_english_val = []\n",
    "\n",
    "for pt_examples, en_examples in train_examples.take(len(train_examples)):\n",
    "    pt = pt_examples.numpy().decode('utf-8')\n",
    "    en = en_examples.numpy().decode('utf-8')\n",
    "    dataset_ted_portuguese_english_train.append({'english': en, 'portuguese': pt})\n",
    "\n",
    "for pt_examples, en_examples in val_examples.take(len(val_examples)):\n",
    "    pt = pt_examples.numpy().decode('utf-8')\n",
    "    en = en_examples.numpy().decode('utf-8')\n",
    "    dataset_ted_portuguese_english_val.append({'english': en, 'portuguese': pt})\n",
    "    \n",
    "dataset_ted['train'] = dataset_ted_portuguese_english_train\n",
    "dataset_ted['validation'] = dataset_ted_portuguese_english_val\n",
    "\n",
    "with open('nlp_ted_pt_en.pkl', 'wb') as f:\n",
    "    pickle.dump(dataset_ted, f)\n",
    "\n",
    "# Optional json\n",
    "with open('../datasets/train.json', 'w') as fout:\n",
    "    json.dump(dataset_ted['train'] , fout)\n",
    "with open('../datasets/validation.json', 'w') as fout:\n",
    "    json.dump(dataset_ted['validation'] , fout)\n",
    "```\n",
    "\n",
    "### References\n",
    "* https://www.tensorflow.org/text/tutorials/transformer#download_the_dataset\n",
    "* https://www.tensorflow.org/text/guide/subwords_tokenizer\n",
    "* https://spacy.io/usage/spacy-101\n",
    "* https://pytorch.org/tutorials/beginner/text_sentiment_ngrams_tutorial.html\n",
    "* https://towardsdatascience.com/deep-learning-for-nlp-with-pytorch-and-torchtext-4f92d69052f\n",
    "* https://github.com/pytorch/text/blob/master/examples/legacy_tutorial/migration_tutorial.ipynb\n",
    "* https://pytorch.org/tutorials/beginner/translation_transformer.html\n",
    "* https://pytorch.org/tutorials/intermediate/seq2seq_translation_tutorial.html\n",
    "* https://stackoverflow.com/questions/66838185/build-vocab-using-spacy"
   ]
  },
  {
   "cell_type": "code",
   "execution_count": 8,
   "metadata": {},
   "outputs": [
    {
     "name": "stdout",
     "output_type": "stream",
     "text": [
      "Device: cpu\n"
     ]
    }
   ],
   "source": [
    "import sys\n",
    "sys.path.append('../')\n",
    "from model.sublayers.transformer import TransformerEncoderDecoder\n",
    "import pickle, json, torch, spacy\n",
    "import numpy as np\n",
    "spacy_pt = spacy.load('pt_core_news_sm')\n",
    "spacy_en = spacy.load('en_core_web_sm')\n",
    "\n",
    "device = torch.device(\"cuda\" if torch.cuda.is_available() else \"cpu\")\n",
    "print('Device:', device)\n",
    "\n",
    "# Training Hyperperameters\n",
    "num_layers = 4\n",
    "d_model = 128\n",
    "dff = 512\n",
    "num_heads = 8\n",
    "dropout_rate = 0.1\n",
    "EPOCHS = 20\n",
    "BATCH_SIZE = 64"
   ]
  },
  {
   "cell_type": "markdown",
   "metadata": {},
   "source": [
    "### Load and Prepare Data"
   ]
  },
  {
   "cell_type": "code",
   "execution_count": 9,
   "metadata": {},
   "outputs": [],
   "source": [
    "with open('../datasets/train.json', 'rb') as f:\n",
    "    train = json.load(f)\n",
    "    \n",
    "with open('../datasets/validation.json', 'rb') as f:\n",
    "    validation = json.load(f)"
   ]
  },
  {
   "cell_type": "code",
   "execution_count": 10,
   "metadata": {},
   "outputs": [
    {
     "data": {
      "text/plain": [
       "{'english': 'but what if it were active ?',\n",
       " 'portuguese': 'mas e se estes fatores fossem ativos ?'}"
      ]
     },
     "execution_count": 10,
     "metadata": {},
     "output_type": "execute_result"
    }
   ],
   "source": [
    "train[1]"
   ]
  },
  {
   "cell_type": "markdown",
   "metadata": {},
   "source": [
    "#### Tokenize\n",
    "Now we need to convert the phrases to a list of tokens, which will be a list of string of words\n",
    "```bash\n",
    "pip install spacy --use-feature=2020-resolver\n",
    "python -m spacy download pt_core_news_sm\n",
    "python -m spacy download en_core_web_sm\n",
    "```"
   ]
  },
  {
   "cell_type": "code",
   "execution_count": 11,
   "metadata": {},
   "outputs": [
    {
     "name": "stdout",
     "output_type": "stream",
     "text": [
      "['mas', 'e', 'se', 'estes', 'fatores', 'fossem', 'ativos', '?']\n",
      "['but', 'what', 'if', 'it', 'were', 'active', '?']\n"
     ]
    }
   ],
   "source": [
    "# Define Begining/End tokens and the blank\n",
    "BOS_WORD = '<s>'\n",
    "EOS_WORD = '</s>'\n",
    "BLANK_WORD = \"<pad>\"\n",
    "\n",
    "def tokenize_pt(text):\n",
    "        return [tok.text for tok in spacy_pt.tokenizer(text)]\n",
    "\n",
    "def tokenize_en(text):\n",
    "    return [tok.text for tok in spacy_en.tokenizer(text)]\n",
    "\n",
    "print(tokenize_pt(train[1]['portuguese']))\n",
    "print(tokenize_en(train[1]['english']))"
   ]
  },
  {
   "cell_type": "code",
   "execution_count": null,
   "metadata": {},
   "outputs": [],
   "source": []
  }
 ],
 "metadata": {
  "kernelspec": {
   "display_name": "Python 3",
   "language": "python",
   "name": "python3"
  },
  "language_info": {
   "codemirror_mode": {
    "name": "ipython",
    "version": 3
   },
   "file_extension": ".py",
   "mimetype": "text/x-python",
   "name": "python",
   "nbconvert_exporter": "python",
   "pygments_lexer": "ipython3",
   "version": "3.8.5"
  }
 },
 "nbformat": 4,
 "nbformat_minor": 4
}
